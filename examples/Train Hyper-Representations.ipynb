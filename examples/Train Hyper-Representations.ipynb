{
 "cells": [
  {
   "cell_type": "markdown",
   "id": "752a7d84",
   "metadata": {},
   "source": [
    "## Introduction\n",
    "\n",
    "This notebook goes through the steps to train the hyper-representations, to replicate the experiments from the paper.  \n",
    "Make sure to install the ghrp package by running `pip3 install .` in the main directory and download the data first by running `bash download_data.sh` in `/data`."
   ]
  },
  {
   "cell_type": "code",
   "execution_count": null,
   "id": "f1049155",
   "metadata": {},
   "outputs": [],
   "source": [
    "import torch\n",
    "import ray\n",
    "from ray import tune\n",
    "from ray.tune.logger import DEFAULT_LOGGERS\n",
    "from ray.tune.integration.wandb import WandbLogger\n",
    "\n",
    "import json\n",
    "import sys\n",
    "from pathlib import Path\n",
    "\n",
    "from ghrp.model_definitions.def_simclr_ae_trainable import SimCLR_AE_tune_trainable\n",
    "from ghrp.checkpoints_to_datasets.dataset_simclr import SimCLRDataset"
   ]
  },
  {
   "cell_type": "code",
   "execution_count": null,
   "id": "e22d7466",
   "metadata": {},
   "outputs": [],
   "source": [
    "# set which hyper-representation to train\n",
    "\n",
    "PATH_ROOT = Path(\"./../data/hyper_representations/mnist\")\n",
    "# PATH_ROOT = Path(\"./../data/hyper_representations/svhn\")\n",
    "# PATH_ROOT = Path(\"./../data/hyper_representations/cifar10\")\n",
    "# PATH_ROOT = Path(\"./../data/hyper_representations/stl10\")"
   ]
  },
  {
   "cell_type": "code",
   "execution_count": null,
   "id": "27529af0",
   "metadata": {},
   "outputs": [],
   "source": [
    "# load config\n",
    "config_path = PATH_ROOT.joinpath('config_ae.json')\n",
    "config = json.load(config_path.open('r'))\n",
    "config['dataset::dump'] = PATH_ROOT.joinpath('dataset.pt').absolute()"
   ]
  },
  {
   "cell_type": "code",
   "execution_count": null,
   "id": "1f899eb0",
   "metadata": {},
   "outputs": [],
   "source": [
    "# configure output path\n",
    "\n",
    "output_dir = PATH_ROOT.joinpath(\"tune\")\n",
    "try:\n",
    "    output_dir.mkdir(parents=True, exist_ok=False)\n",
    "except FileExistsError:\n",
    "    pass\n"
   ]
  },
  {
   "cell_type": "code",
   "execution_count": null,
   "id": "012468eb",
   "metadata": {},
   "outputs": [],
   "source": [
    "gpus = 1 if torch.cuda.is_available() else 0\n",
    "cpus = 4\n",
    "resources_per_trial = {\"cpu\": cpus, \"gpu\": gpus}\n",
    "\n",
    "config['device'] = torch.device('cuda') if gpus>0 else torch.device('cpu')\n",
    "\n",
    "ray.init(\n",
    "    num_cpus=cpus,\n",
    "    num_gpus=gpus,\n",
    ")\n"
   ]
  },
  {
   "cell_type": "code",
   "execution_count": null,
   "id": "4180c87d",
   "metadata": {},
   "outputs": [],
   "source": [
    "assert ray.is_initialized() == True\n",
    "\n",
    "analysis = tune.run(\n",
    "    run_or_experiment=SimCLR_AE_tune_trainable,\n",
    "    name='reproduce_experiments',\n",
    "    stop={\n",
    "        \"training_iteration\": config[\"training::epochs_train\"],\n",
    "    },\n",
    "    checkpoint_at_end=True,\n",
    "    checkpoint_score_attr=\"loss_val\",\n",
    "    checkpoint_freq=config[\"training::output_epoch\"],\n",
    "    config=config,\n",
    "    local_dir=output_dir,\n",
    "#         callbacks=[\n",
    "#             WandbLoggerCallback(\n",
    "#                 api_key_file=\"/path/to/your/wandb.key\",\n",
    "#                 project=\"your project name\",\n",
    "#             )\n",
    "#         ],\n",
    "    resources_per_trial=resources_per_trial,\n",
    "    reuse_actors=False,\n",
    "    max_failures=1,\n",
    "    fail_fast=False,\n",
    "    verbose=3,\n",
    "    # resume=True,\n",
    ")\n"
   ]
  },
  {
   "cell_type": "code",
   "execution_count": null,
   "id": "65bef354",
   "metadata": {},
   "outputs": [],
   "source": [
    "ray.shutdown()\n",
    "assert ray.is_initialized() == False"
   ]
  },
  {
   "cell_type": "code",
   "execution_count": null,
   "id": "a5c9775a",
   "metadata": {},
   "outputs": [],
   "source": []
  }
 ],
 "metadata": {
  "kernelspec": {
   "display_name": "Python 3 (ipykernel)",
   "language": "python",
   "name": "python3"
  },
  "language_info": {
   "codemirror_mode": {
    "name": "ipython",
    "version": 3
   },
   "file_extension": ".py",
   "mimetype": "text/x-python",
   "name": "python",
   "nbconvert_exporter": "python",
   "pygments_lexer": "ipython3",
   "version": "3.8.13"
  }
 },
 "nbformat": 4,
 "nbformat_minor": 5
}
