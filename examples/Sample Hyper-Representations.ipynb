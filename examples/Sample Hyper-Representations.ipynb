{
 "cells": [
  {
   "cell_type": "markdown",
   "id": "a723885a",
   "metadata": {},
   "source": [
    "## Introduction\n",
    "\n",
    "This notebook demonstrates the steps to sample hyper-representations, finetune the samlped models and compare to baselines.  \n",
    "Make sure to install the ghrp package by running `pip3 install .` in the main directory and download the data first by running `bash download_data.sh` in `/data`."
   ]
  },
  {
   "cell_type": "code",
   "execution_count": null,
   "id": "653cfc77",
   "metadata": {},
   "outputs": [],
   "source": [
    "# import modules\n",
    "from pathlib import Path\n",
    "from ghrp.sampling_auxiliaries.sample_finetune_auxiliaries import *\n",
    "import ray"
   ]
  },
  {
   "cell_type": "code",
   "execution_count": null,
   "id": "12ae8429",
   "metadata": {},
   "outputs": [],
   "source": [
    "# set experiment / data root path\n",
    "\n",
    "# PATH_ROOT = Path(\"./../data/hyper_representations/mnist\")\n",
    "PATH_ROOT = Path(\"./../data/hyper_representations/svhn\")\n",
    "# PATH_ROOT = Path(\"./../data/hyper_representations/cifar10\")\n",
    "# PATH_ROOT = Path(\"./../data/hyper_representations/stl10\")"
   ]
  },
  {
   "cell_type": "code",
   "execution_count": null,
   "id": "81351ec7",
   "metadata": {},
   "outputs": [],
   "source": [
    "# set parameterization: where to put sampled populations, how many models to sample, source/target zoos\n",
    "\n",
    "# set experiment path\n",
    "experiment_path = PATH_ROOT\n",
    "path_to_samples = experiment_path.joinpath(\"samples\")\n",
    "population_root_path = experiment_path\n",
    "\n",
    "# set how many samples to generate\n",
    "no_samples_generation = 25\n",
    "# set how many samples to finetune\n",
    "no_samples = 5\n",
    "\n",
    "# set offset for in-distribution comparison\n",
    "id_offset = 25\n",
    "# set training epochs for in-distribution and out-of-distribuiton\n",
    "training_epochs_id = 15\n",
    "training_epochs_ood = 15\n",
    "\n",
    "# set computation ressources\n",
    "cpus = 4\n",
    "cpu_per_trial = 1\n",
    "take_config_from = \"target\"\n",
    "\n",
    "# OOD zoo paths\n",
    "source_zoo_path = Path(\"./../data/zoos/svhn/\")\n",
    "target_zoo_paths = [\n",
    "    Path(\"./../data/zoos/mnist/\"),\n",
    "]\n",
    "\n"
   ]
  },
  {
   "cell_type": "code",
   "execution_count": null,
   "id": "9f29e98c",
   "metadata": {},
   "outputs": [],
   "source": [
    "############ sample models\n",
    "print(\"#### Sample new weights\")\n",
    "\n",
    "ae_config_path, model_config_path = sample(\n",
    "    experiment_path=experiment_path,\n",
    "    path_to_samples=path_to_samples,\n",
    "#     no_samples=no_samples_generation,\n",
    "    no_samples=0,\n",
    ")\n",
    "ae_config = json.load(ae_config_path.open(\"r\"))"
   ]
  },
  {
   "cell_type": "code",
   "execution_count": null,
   "id": "9dee5314",
   "metadata": {},
   "outputs": [],
   "source": [
    "## find strs of source / target domain for naming directories\n",
    "source = find_domain_from_path(population_path=source_zoo_path)\n",
    "target = find_domain_from_path(population_path=source_zoo_path)\n",
    "population_path = population_root_path.joinpath(f\"{source}_to_{target}\")\n",
    "population_path"
   ]
  },
  {
   "cell_type": "code",
   "execution_count": null,
   "id": "b3c8e459",
   "metadata": {},
   "outputs": [],
   "source": [
    "## finetune sampled populations on original dataset (in distribution)\n",
    "print(\"#### Finetune ID\")\n",
    "source = find_domain_from_path(population_path=source_zoo_path)\n",
    "target = find_domain_from_path(population_path=source_zoo_path)\n",
    "population_path = population_root_path.joinpath(f\"{source}_to_{target}\")\n",
    "\n",
    "if ray.is_initialized():\n",
    "    ray.shutdown()\n",
    "\n",
    "finetune(\n",
    "    project=f\"{source}_to_{target}\",\n",
    "    population_path=population_path,\n",
    "    path_to_samples=path_to_samples,\n",
    "    path_target_zoo=source_zoo_path,\n",
    "    model_config_path=model_config_path,\n",
    "    model_config=take_config_from,\n",
    "    no_samples=no_samples,\n",
    "    training_epochs=training_epochs_id,\n",
    "    cpus=cpus,\n",
    "    skip=[\"uniform\", \"train\", \"kde_z_train\"],\n",
    ")\n"
   ]
  },
  {
   "cell_type": "code",
   "execution_count": null,
   "id": "76412086",
   "metadata": {},
   "outputs": [],
   "source": [
    "### call plot function to visualize results\n",
    "plot_domains = [\n",
    "    \"baseline\",\n",
    "    \"direct\",\n",
    "    \"uniform\",\n",
    "    # \"train\",\n",
    "    \"best\",\n",
    "    # \"kde_z_train\",\n",
    "    \"kde_z_best\",\n",
    "    # \"gan\",\n",
    "    \"gan_best\",\n",
    "]\n",
    "\n",
    "\n",
    "## plot figures\n",
    "print(\"#### Plot Finetune Figures\")\n",
    "plot_populations(\n",
    "    source=source,\n",
    "    target=target,\n",
    "    path_target_zoo=source_zoo_path,\n",
    "    population_path=population_path,\n",
    "    layer_lst=ae_config[\"trainset::layer_lst\"],\n",
    "    id_offset=id_offset,\n",
    "    plot_domains=plot_domains,\n",
    ")\n"
   ]
  },
  {
   "cell_type": "code",
   "execution_count": null,
   "id": "d7e89315",
   "metadata": {},
   "outputs": [],
   "source": [
    "print(f'Figures and population satistics can be found in {population_path}')"
   ]
  },
  {
   "cell_type": "code",
   "execution_count": null,
   "id": "642c59e9",
   "metadata": {},
   "outputs": [],
   "source": [
    "### finetune sampled populations on different image datasets\n",
    "# finetune OOD\n",
    "print(\"#### Finetune OOD\")\n",
    "target_zoo_path = target_zoo_paths[0]\n",
    "# finetune ID\n",
    "source = find_domain_from_path(population_path=source_zoo_path)\n",
    "target = find_domain_from_path(population_path=target_zoo_path)\n",
    "print(f\"#### Finetune OOD on domain: {target}\")\n",
    "population_path = population_root_path.joinpath(f\"{source}_to_{target}\")\n",
    "finetune(\n",
    "    project=f\"{source}_to_{target}\",\n",
    "    population_path=population_path,\n",
    "    path_to_samples=path_to_samples,\n",
    "    path_target_zoo=target_zoo_path,\n",
    "    model_config_path=model_config_path,\n",
    "    model_config=take_config_from,\n",
    "    no_samples=no_samples,\n",
    "    training_epochs=training_epochs_ood,\n",
    "    cpus=cpus,\n",
    "    cpu_per_trial=cpu_per_trial,\n",
    "    skip=[\"uniform\", \"train\",\"kde_z_train\"],\n",
    ")\n"
   ]
  },
  {
   "cell_type": "code",
   "execution_count": null,
   "id": "7968deb7",
   "metadata": {},
   "outputs": [],
   "source": [
    "## plot figures\n",
    "print(f\"#### Plot OOD Figures {target}\")\n",
    "plot_populations(\n",
    "    source=source,\n",
    "    target=target,\n",
    "    path_target_zoo=target_zoo_path,\n",
    "    population_path=population_path,\n",
    "    layer_lst=ae_config[\"trainset::layer_lst\"],\n",
    "    id_offset=0,\n",
    "    plot_domains=plot_domains,\n",
    ")"
   ]
  },
  {
   "cell_type": "code",
   "execution_count": null,
   "id": "58e4656b",
   "metadata": {},
   "outputs": [],
   "source": [
    "print(f'Figures and population satistics can be found in {population_path}')"
   ]
  }
 ],
 "metadata": {
  "kernelspec": {
   "display_name": "Python 3 (ipykernel)",
   "language": "python",
   "name": "python3"
  },
  "language_info": {
   "codemirror_mode": {
    "name": "ipython",
    "version": 3
   },
   "file_extension": ".py",
   "mimetype": "text/x-python",
   "name": "python",
   "nbconvert_exporter": "python",
   "pygments_lexer": "ipython3",
   "version": "3.8.13"
  }
 },
 "nbformat": 4,
 "nbformat_minor": 5
}
